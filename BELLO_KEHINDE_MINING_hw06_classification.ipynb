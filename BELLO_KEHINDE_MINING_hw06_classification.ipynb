{
  "nbformat": 4,
  "nbformat_minor": 0,
  "metadata": {
    "colab": {
      "provenance": []
    },
    "kernelspec": {
      "name": "python3",
      "display_name": "Python 3"
    },
    "language_info": {
      "name": "python"
    }
  },
  "cells": [
    {
      "cell_type": "markdown",
      "source": [
        "About the homework: In some tasks, in addition to writing code, answers to questions and conclusions are required (there are special Markdown cells marked with **Answer**).\n",
        "\n",
        "The ability to analyze the results of experiments is an important and neccessary skill . Therefore, answers carry more weight than the code: the code accounts for 30% of the task grade, while answers to questions account for 70%.\n",
        "\n",
        "**Reminder:** Plagiarism is prohibited. Use of AI without mentioning how and in which parts it was used is also prohibited. If plagiarism or dishonest use of AI is revealed, the assignment is graded with 0."
      ],
      "metadata": {
        "id": "49TAe9veVzwn"
      }
    },
    {
      "cell_type": "code",
      "execution_count": null,
      "metadata": {
        "id": "oHekUMcxVIQ_"
      },
      "outputs": [],
      "source": [
        "import numpy as np\n",
        "import pandas as pd\n",
        "\n",
        "import matplotlib.pyplot as plt\n",
        "import seaborn as sns"
      ]
    },
    {
      "cell_type": "markdown",
      "source": [
        "Let's work with Titanic dataset again: Download `train.csv` file from https://www.kaggle.com/c/titanic/data?select=train.csv"
      ],
      "metadata": {
        "id": "1x38Gd4oVsS7"
      }
    },
    {
      "cell_type": "code",
      "source": [
        "df = pd.read_csv('train.csv')\n",
        "df.sample(4)"
      ],
      "metadata": {
        "id": "qGmppxMzWDva",
        "colab": {
          "base_uri": "https://localhost:8080/",
          "height": 175
        },
        "outputId": "18a97eff-600e-4cc5-f7fb-01cf8ccff8d1"
      },
      "execution_count": null,
      "outputs": [
        {
          "output_type": "execute_result",
          "data": {
            "text/plain": [
              "     PassengerId  Survived  Pclass                            Name     Sex  \\\n",
              "226          227         1       2       Mellors, Mr. William John    male   \n",
              "257          258         1       1            Cherry, Miss. Gladys  female   \n",
              "16            17         0       3            Rice, Master. Eugene    male   \n",
              "241          242         1       3  Murphy, Miss. Katherine \"Kate\"  female   \n",
              "\n",
              "      Age  SibSp  Parch     Ticket    Fare Cabin Embarked  \n",
              "226  19.0      0      0  SW/PP 751  10.500   NaN        S  \n",
              "257  30.0      0      0     110152  86.500   B77        S  \n",
              "16    2.0      4      1     382652  29.125   NaN        Q  \n",
              "241   NaN      1      0     367230  15.500   NaN        Q  "
            ],
            "text/html": [
              "\n",
              "  <div id=\"df-e0f3c807-f3a1-4e8c-b816-b5c492be8beb\" class=\"colab-df-container\">\n",
              "    <div>\n",
              "<style scoped>\n",
              "    .dataframe tbody tr th:only-of-type {\n",
              "        vertical-align: middle;\n",
              "    }\n",
              "\n",
              "    .dataframe tbody tr th {\n",
              "        vertical-align: top;\n",
              "    }\n",
              "\n",
              "    .dataframe thead th {\n",
              "        text-align: right;\n",
              "    }\n",
              "</style>\n",
              "<table border=\"1\" class=\"dataframe\">\n",
              "  <thead>\n",
              "    <tr style=\"text-align: right;\">\n",
              "      <th></th>\n",
              "      <th>PassengerId</th>\n",
              "      <th>Survived</th>\n",
              "      <th>Pclass</th>\n",
              "      <th>Name</th>\n",
              "      <th>Sex</th>\n",
              "      <th>Age</th>\n",
              "      <th>SibSp</th>\n",
              "      <th>Parch</th>\n",
              "      <th>Ticket</th>\n",
              "      <th>Fare</th>\n",
              "      <th>Cabin</th>\n",
              "      <th>Embarked</th>\n",
              "    </tr>\n",
              "  </thead>\n",
              "  <tbody>\n",
              "    <tr>\n",
              "      <th>226</th>\n",
              "      <td>227</td>\n",
              "      <td>1</td>\n",
              "      <td>2</td>\n",
              "      <td>Mellors, Mr. William John</td>\n",
              "      <td>male</td>\n",
              "      <td>19.0</td>\n",
              "      <td>0</td>\n",
              "      <td>0</td>\n",
              "      <td>SW/PP 751</td>\n",
              "      <td>10.500</td>\n",
              "      <td>NaN</td>\n",
              "      <td>S</td>\n",
              "    </tr>\n",
              "    <tr>\n",
              "      <th>257</th>\n",
              "      <td>258</td>\n",
              "      <td>1</td>\n",
              "      <td>1</td>\n",
              "      <td>Cherry, Miss. Gladys</td>\n",
              "      <td>female</td>\n",
              "      <td>30.0</td>\n",
              "      <td>0</td>\n",
              "      <td>0</td>\n",
              "      <td>110152</td>\n",
              "      <td>86.500</td>\n",
              "      <td>B77</td>\n",
              "      <td>S</td>\n",
              "    </tr>\n",
              "    <tr>\n",
              "      <th>16</th>\n",
              "      <td>17</td>\n",
              "      <td>0</td>\n",
              "      <td>3</td>\n",
              "      <td>Rice, Master. Eugene</td>\n",
              "      <td>male</td>\n",
              "      <td>2.0</td>\n",
              "      <td>4</td>\n",
              "      <td>1</td>\n",
              "      <td>382652</td>\n",
              "      <td>29.125</td>\n",
              "      <td>NaN</td>\n",
              "      <td>Q</td>\n",
              "    </tr>\n",
              "    <tr>\n",
              "      <th>241</th>\n",
              "      <td>242</td>\n",
              "      <td>1</td>\n",
              "      <td>3</td>\n",
              "      <td>Murphy, Miss. Katherine \"Kate\"</td>\n",
              "      <td>female</td>\n",
              "      <td>NaN</td>\n",
              "      <td>1</td>\n",
              "      <td>0</td>\n",
              "      <td>367230</td>\n",
              "      <td>15.500</td>\n",
              "      <td>NaN</td>\n",
              "      <td>Q</td>\n",
              "    </tr>\n",
              "  </tbody>\n",
              "</table>\n",
              "</div>\n",
              "    <div class=\"colab-df-buttons\">\n",
              "\n",
              "  <div class=\"colab-df-container\">\n",
              "    <button class=\"colab-df-convert\" onclick=\"convertToInteractive('df-e0f3c807-f3a1-4e8c-b816-b5c492be8beb')\"\n",
              "            title=\"Convert this dataframe to an interactive table.\"\n",
              "            style=\"display:none;\">\n",
              "\n",
              "  <svg xmlns=\"http://www.w3.org/2000/svg\" height=\"24px\" viewBox=\"0 -960 960 960\">\n",
              "    <path d=\"M120-120v-720h720v720H120Zm60-500h600v-160H180v160Zm220 220h160v-160H400v160Zm0 220h160v-160H400v160ZM180-400h160v-160H180v160Zm440 0h160v-160H620v160ZM180-180h160v-160H180v160Zm440 0h160v-160H620v160Z\"/>\n",
              "  </svg>\n",
              "    </button>\n",
              "\n",
              "  <style>\n",
              "    .colab-df-container {\n",
              "      display:flex;\n",
              "      gap: 12px;\n",
              "    }\n",
              "\n",
              "    .colab-df-convert {\n",
              "      background-color: #E8F0FE;\n",
              "      border: none;\n",
              "      border-radius: 50%;\n",
              "      cursor: pointer;\n",
              "      display: none;\n",
              "      fill: #1967D2;\n",
              "      height: 32px;\n",
              "      padding: 0 0 0 0;\n",
              "      width: 32px;\n",
              "    }\n",
              "\n",
              "    .colab-df-convert:hover {\n",
              "      background-color: #E2EBFA;\n",
              "      box-shadow: 0px 1px 2px rgba(60, 64, 67, 0.3), 0px 1px 3px 1px rgba(60, 64, 67, 0.15);\n",
              "      fill: #174EA6;\n",
              "    }\n",
              "\n",
              "    .colab-df-buttons div {\n",
              "      margin-bottom: 4px;\n",
              "    }\n",
              "\n",
              "    [theme=dark] .colab-df-convert {\n",
              "      background-color: #3B4455;\n",
              "      fill: #D2E3FC;\n",
              "    }\n",
              "\n",
              "    [theme=dark] .colab-df-convert:hover {\n",
              "      background-color: #434B5C;\n",
              "      box-shadow: 0px 1px 3px 1px rgba(0, 0, 0, 0.15);\n",
              "      filter: drop-shadow(0px 1px 2px rgba(0, 0, 0, 0.3));\n",
              "      fill: #FFFFFF;\n",
              "    }\n",
              "  </style>\n",
              "\n",
              "    <script>\n",
              "      const buttonEl =\n",
              "        document.querySelector('#df-e0f3c807-f3a1-4e8c-b816-b5c492be8beb button.colab-df-convert');\n",
              "      buttonEl.style.display =\n",
              "        google.colab.kernel.accessAllowed ? 'block' : 'none';\n",
              "\n",
              "      async function convertToInteractive(key) {\n",
              "        const element = document.querySelector('#df-e0f3c807-f3a1-4e8c-b816-b5c492be8beb');\n",
              "        const dataTable =\n",
              "          await google.colab.kernel.invokeFunction('convertToInteractive',\n",
              "                                                    [key], {});\n",
              "        if (!dataTable) return;\n",
              "\n",
              "        const docLinkHtml = 'Like what you see? Visit the ' +\n",
              "          '<a target=\"_blank\" href=https://colab.research.google.com/notebooks/data_table.ipynb>data table notebook</a>'\n",
              "          + ' to learn more about interactive tables.';\n",
              "        element.innerHTML = '';\n",
              "        dataTable['output_type'] = 'display_data';\n",
              "        await google.colab.output.renderOutput(dataTable, element);\n",
              "        const docLink = document.createElement('div');\n",
              "        docLink.innerHTML = docLinkHtml;\n",
              "        element.appendChild(docLink);\n",
              "      }\n",
              "    </script>\n",
              "  </div>\n",
              "\n",
              "\n",
              "<div id=\"df-221bbe2d-fdc0-494d-a457-7444d306d18d\">\n",
              "  <button class=\"colab-df-quickchart\" onclick=\"quickchart('df-221bbe2d-fdc0-494d-a457-7444d306d18d')\"\n",
              "            title=\"Suggest charts\"\n",
              "            style=\"display:none;\">\n",
              "\n",
              "<svg xmlns=\"http://www.w3.org/2000/svg\" height=\"24px\"viewBox=\"0 0 24 24\"\n",
              "     width=\"24px\">\n",
              "    <g>\n",
              "        <path d=\"M19 3H5c-1.1 0-2 .9-2 2v14c0 1.1.9 2 2 2h14c1.1 0 2-.9 2-2V5c0-1.1-.9-2-2-2zM9 17H7v-7h2v7zm4 0h-2V7h2v10zm4 0h-2v-4h2v4z\"/>\n",
              "    </g>\n",
              "</svg>\n",
              "  </button>\n",
              "\n",
              "<style>\n",
              "  .colab-df-quickchart {\n",
              "      --bg-color: #E8F0FE;\n",
              "      --fill-color: #1967D2;\n",
              "      --hover-bg-color: #E2EBFA;\n",
              "      --hover-fill-color: #174EA6;\n",
              "      --disabled-fill-color: #AAA;\n",
              "      --disabled-bg-color: #DDD;\n",
              "  }\n",
              "\n",
              "  [theme=dark] .colab-df-quickchart {\n",
              "      --bg-color: #3B4455;\n",
              "      --fill-color: #D2E3FC;\n",
              "      --hover-bg-color: #434B5C;\n",
              "      --hover-fill-color: #FFFFFF;\n",
              "      --disabled-bg-color: #3B4455;\n",
              "      --disabled-fill-color: #666;\n",
              "  }\n",
              "\n",
              "  .colab-df-quickchart {\n",
              "    background-color: var(--bg-color);\n",
              "    border: none;\n",
              "    border-radius: 50%;\n",
              "    cursor: pointer;\n",
              "    display: none;\n",
              "    fill: var(--fill-color);\n",
              "    height: 32px;\n",
              "    padding: 0;\n",
              "    width: 32px;\n",
              "  }\n",
              "\n",
              "  .colab-df-quickchart:hover {\n",
              "    background-color: var(--hover-bg-color);\n",
              "    box-shadow: 0 1px 2px rgba(60, 64, 67, 0.3), 0 1px 3px 1px rgba(60, 64, 67, 0.15);\n",
              "    fill: var(--button-hover-fill-color);\n",
              "  }\n",
              "\n",
              "  .colab-df-quickchart-complete:disabled,\n",
              "  .colab-df-quickchart-complete:disabled:hover {\n",
              "    background-color: var(--disabled-bg-color);\n",
              "    fill: var(--disabled-fill-color);\n",
              "    box-shadow: none;\n",
              "  }\n",
              "\n",
              "  .colab-df-spinner {\n",
              "    border: 2px solid var(--fill-color);\n",
              "    border-color: transparent;\n",
              "    border-bottom-color: var(--fill-color);\n",
              "    animation:\n",
              "      spin 1s steps(1) infinite;\n",
              "  }\n",
              "\n",
              "  @keyframes spin {\n",
              "    0% {\n",
              "      border-color: transparent;\n",
              "      border-bottom-color: var(--fill-color);\n",
              "      border-left-color: var(--fill-color);\n",
              "    }\n",
              "    20% {\n",
              "      border-color: transparent;\n",
              "      border-left-color: var(--fill-color);\n",
              "      border-top-color: var(--fill-color);\n",
              "    }\n",
              "    30% {\n",
              "      border-color: transparent;\n",
              "      border-left-color: var(--fill-color);\n",
              "      border-top-color: var(--fill-color);\n",
              "      border-right-color: var(--fill-color);\n",
              "    }\n",
              "    40% {\n",
              "      border-color: transparent;\n",
              "      border-right-color: var(--fill-color);\n",
              "      border-top-color: var(--fill-color);\n",
              "    }\n",
              "    60% {\n",
              "      border-color: transparent;\n",
              "      border-right-color: var(--fill-color);\n",
              "    }\n",
              "    80% {\n",
              "      border-color: transparent;\n",
              "      border-right-color: var(--fill-color);\n",
              "      border-bottom-color: var(--fill-color);\n",
              "    }\n",
              "    90% {\n",
              "      border-color: transparent;\n",
              "      border-bottom-color: var(--fill-color);\n",
              "    }\n",
              "  }\n",
              "</style>\n",
              "\n",
              "  <script>\n",
              "    async function quickchart(key) {\n",
              "      const quickchartButtonEl =\n",
              "        document.querySelector('#' + key + ' button');\n",
              "      quickchartButtonEl.disabled = true;  // To prevent multiple clicks.\n",
              "      quickchartButtonEl.classList.add('colab-df-spinner');\n",
              "      try {\n",
              "        const charts = await google.colab.kernel.invokeFunction(\n",
              "            'suggestCharts', [key], {});\n",
              "      } catch (error) {\n",
              "        console.error('Error during call to suggestCharts:', error);\n",
              "      }\n",
              "      quickchartButtonEl.classList.remove('colab-df-spinner');\n",
              "      quickchartButtonEl.classList.add('colab-df-quickchart-complete');\n",
              "    }\n",
              "    (() => {\n",
              "      let quickchartButtonEl =\n",
              "        document.querySelector('#df-221bbe2d-fdc0-494d-a457-7444d306d18d button');\n",
              "      quickchartButtonEl.style.display =\n",
              "        google.colab.kernel.accessAllowed ? 'block' : 'none';\n",
              "    })();\n",
              "  </script>\n",
              "</div>\n",
              "\n",
              "    </div>\n",
              "  </div>\n"
            ],
            "application/vnd.google.colaboratory.intrinsic+json": {
              "type": "dataframe",
              "summary": "{\n  \"name\": \"df\",\n  \"rows\": 4,\n  \"fields\": [\n    {\n      \"column\": \"PassengerId\",\n      \"properties\": {\n        \"dtype\": \"number\",\n        \"std\": 113,\n        \"min\": 17,\n        \"max\": 258,\n        \"num_unique_values\": 4,\n        \"samples\": [\n          258,\n          242,\n          227\n        ],\n        \"semantic_type\": \"\",\n        \"description\": \"\"\n      }\n    },\n    {\n      \"column\": \"Survived\",\n      \"properties\": {\n        \"dtype\": \"number\",\n        \"std\": 0,\n        \"min\": 0,\n        \"max\": 1,\n        \"num_unique_values\": 2,\n        \"samples\": [\n          0,\n          1\n        ],\n        \"semantic_type\": \"\",\n        \"description\": \"\"\n      }\n    },\n    {\n      \"column\": \"Pclass\",\n      \"properties\": {\n        \"dtype\": \"number\",\n        \"std\": 0,\n        \"min\": 1,\n        \"max\": 3,\n        \"num_unique_values\": 3,\n        \"samples\": [\n          2,\n          1\n        ],\n        \"semantic_type\": \"\",\n        \"description\": \"\"\n      }\n    },\n    {\n      \"column\": \"Name\",\n      \"properties\": {\n        \"dtype\": \"string\",\n        \"num_unique_values\": 4,\n        \"samples\": [\n          \"Cherry, Miss. Gladys\",\n          \"Murphy, Miss. Katherine \\\"Kate\\\"\"\n        ],\n        \"semantic_type\": \"\",\n        \"description\": \"\"\n      }\n    },\n    {\n      \"column\": \"Sex\",\n      \"properties\": {\n        \"dtype\": \"string\",\n        \"num_unique_values\": 2,\n        \"samples\": [\n          \"female\",\n          \"male\"\n        ],\n        \"semantic_type\": \"\",\n        \"description\": \"\"\n      }\n    },\n    {\n      \"column\": \"Age\",\n      \"properties\": {\n        \"dtype\": \"number\",\n        \"std\": 14.106735979665885,\n        \"min\": 2.0,\n        \"max\": 30.0,\n        \"num_unique_values\": 3,\n        \"samples\": [\n          19.0,\n          30.0\n        ],\n        \"semantic_type\": \"\",\n        \"description\": \"\"\n      }\n    },\n    {\n      \"column\": \"SibSp\",\n      \"properties\": {\n        \"dtype\": \"number\",\n        \"std\": 1,\n        \"min\": 0,\n        \"max\": 4,\n        \"num_unique_values\": 3,\n        \"samples\": [\n          0,\n          4\n        ],\n        \"semantic_type\": \"\",\n        \"description\": \"\"\n      }\n    },\n    {\n      \"column\": \"Parch\",\n      \"properties\": {\n        \"dtype\": \"number\",\n        \"std\": 0,\n        \"min\": 0,\n        \"max\": 1,\n        \"num_unique_values\": 2,\n        \"samples\": [\n          1,\n          0\n        ],\n        \"semantic_type\": \"\",\n        \"description\": \"\"\n      }\n    },\n    {\n      \"column\": \"Ticket\",\n      \"properties\": {\n        \"dtype\": \"string\",\n        \"num_unique_values\": 4,\n        \"samples\": [\n          \"110152\",\n          \"367230\"\n        ],\n        \"semantic_type\": \"\",\n        \"description\": \"\"\n      }\n    },\n    {\n      \"column\": \"Fare\",\n      \"properties\": {\n        \"dtype\": \"number\",\n        \"std\": 34.960003188167285,\n        \"min\": 10.5,\n        \"max\": 86.5,\n        \"num_unique_values\": 4,\n        \"samples\": [\n          86.5,\n          15.5\n        ],\n        \"semantic_type\": \"\",\n        \"description\": \"\"\n      }\n    },\n    {\n      \"column\": \"Cabin\",\n      \"properties\": {\n        \"dtype\": \"category\",\n        \"num_unique_values\": 1,\n        \"samples\": [\n          \"B77\"\n        ],\n        \"semantic_type\": \"\",\n        \"description\": \"\"\n      }\n    },\n    {\n      \"column\": \"Embarked\",\n      \"properties\": {\n        \"dtype\": \"string\",\n        \"num_unique_values\": 2,\n        \"samples\": [\n          \"Q\"\n        ],\n        \"semantic_type\": \"\",\n        \"description\": \"\"\n      }\n    }\n  ]\n}"
            }
          },
          "metadata": {},
          "execution_count": 17
        }
      ]
    },
    {
      "cell_type": "markdown",
      "source": [
        "# Task 1 (1 point)"
      ],
      "metadata": {
        "id": "4_kGbNUgWFn3"
      }
    },
    {
      "cell_type": "code",
      "source": [],
      "metadata": {
        "id": "tyoGIPI8q7i_"
      },
      "execution_count": null,
      "outputs": []
    },
    {
      "cell_type": "code",
      "source": [],
      "metadata": {
        "id": "-2zv-VHKq7YC"
      },
      "execution_count": null,
      "outputs": []
    },
    {
      "cell_type": "code",
      "source": [
        "df.columns"
      ],
      "metadata": {
        "colab": {
          "base_uri": "https://localhost:8080/"
        },
        "id": "gYjjokhIQvYu",
        "outputId": "001689a1-298c-4163-fc88-69a2ca9ced80"
      },
      "execution_count": null,
      "outputs": [
        {
          "output_type": "execute_result",
          "data": {
            "text/plain": [
              "Index(['PassengerId', 'Survived', 'Pclass', 'Name', 'Sex', 'Age', 'SibSp',\n",
              "       'Parch', 'Ticket', 'Fare', 'Cabin', 'Embarked'],\n",
              "      dtype='object')"
            ]
          },
          "metadata": {},
          "execution_count": 18
        }
      ]
    },
    {
      "cell_type": "markdown",
      "source": [
        "Split dataFrame into train and test. Set `test_size=0.3, random_state=0`"
      ],
      "metadata": {
        "id": "U8JBebYmW7VO"
      }
    },
    {
      "cell_type": "code",
      "source": [
        "\n",
        "from sklearn.model_selection import train_test_split\n",
        "\n",
        "# Split the DataFrame into train and test sets\n",
        "df_train, df_test = train_test_split(df, test_size=0.3, random_state=0)\n",
        "\n",
        "# Print the size of the train and test datasets\n",
        "print(f\"Train size: {df_train.shape}\")\n",
        "print(f\"Test size: {df_test.shape}\")\n"
      ],
      "metadata": {
        "id": "6Kqr4WFWXEkT",
        "colab": {
          "base_uri": "https://localhost:8080/"
        },
        "outputId": "41c2a0cf-4bd0-4366-8dd4-c04073b8e673"
      },
      "execution_count": null,
      "outputs": [
        {
          "output_type": "stream",
          "name": "stdout",
          "text": [
            "Train size: (623, 12)\n",
            "Test size: (268, 12)\n"
          ]
        }
      ]
    },
    {
      "cell_type": "code",
      "source": [],
      "metadata": {
        "id": "rW7c_HwWbIf1"
      },
      "execution_count": null,
      "outputs": []
    },
    {
      "cell_type": "code",
      "source": [],
      "metadata": {
        "id": "oVL9nOL_rOOm"
      },
      "execution_count": null,
      "outputs": []
    },
    {
      "cell_type": "markdown",
      "source": [
        "Let's start preprocessing the features:\n",
        "\n",
        "\n",
        "\n",
        "*   Drop features with $>40%$ missing values and `'PassengerId'`\n",
        "*   Fill missing values with median (for numerical features) and mode (for categorical features)\n",
        "\n"
      ],
      "metadata": {
        "id": "M0sqX_-bWJiZ"
      }
    },
    {
      "cell_type": "code",
      "source": [
        "\n",
        "# Drop columns with >40 missing values and 'PassengerId'\n",
        "missing_values_threshold = 40\n",
        "\n",
        "columns_to_drop = [col for col in df_train.columns if df_train[col].isnull().sum() > missing_values_threshold]\n",
        "columns_to_drop.append('PassengerId')  # Add PassengerId explicitly\n",
        "\n",
        "df_train.drop(columns=columns_to_drop, inplace=True)\n",
        "df_test.drop(columns=columns_to_drop, inplace=True)\n",
        "\n",
        "# Fill missing values: median for numerical, mode for categorical\n",
        "numerical_features = df_train.select_dtypes(include=['int64', 'float64']).columns\n",
        "categorical_features = df_train.select_dtypes(include=['object']).columns\n",
        "\n",
        "values = {}\n",
        "\n",
        "# Define filling values\n",
        "for col in numerical_features:\n",
        "    values[col] = df_train[col].median()\n",
        "\n",
        "for col in categorical_features:\n",
        "    values[col] = df_train[col].mode()[0]\n",
        "\n",
        "# Fill missing values in train and test\n",
        "df_train.fillna(values, inplace=True)\n",
        "df_test.fillna(values, inplace=True)\n",
        "\n",
        "\n"
      ],
      "metadata": {
        "id": "9aJD5HxYWu1D"
      },
      "execution_count": null,
      "outputs": []
    },
    {
      "cell_type": "markdown",
      "source": [
        "How many features do we have now? (Do not count `'Survived'` - this will be target)"
      ],
      "metadata": {
        "id": "6fo_YfZBX51t"
      }
    },
    {
      "cell_type": "code",
      "source": [
        "#YOUR CODE\n",
        "features = df_train.columns.tolist()\n",
        "features.remove('Survived')\n",
        "num_features = len(features)\n",
        "print(f\"Number of features: {num_features}\")"
      ],
      "metadata": {
        "id": "RmLgkeo6X_65",
        "colab": {
          "base_uri": "https://localhost:8080/"
        },
        "outputId": "4d9f7b8e-1f16-4892-d635-574ee5fd211e"
      },
      "execution_count": null,
      "outputs": [
        {
          "output_type": "stream",
          "name": "stdout",
          "text": [
            "Number of features: 8\n"
          ]
        }
      ]
    },
    {
      "cell_type": "code",
      "source": [],
      "metadata": {
        "id": "DjmdF-15b3y_"
      },
      "execution_count": null,
      "outputs": []
    },
    {
      "cell_type": "markdown",
      "source": [
        "# Task 2 (2 points)"
      ],
      "metadata": {
        "id": "jm4rQIz7aJJW"
      }
    },
    {
      "cell_type": "markdown",
      "source": [
        "Now, let's use one-hot-encoding to encode columns with type `'object'`:\n",
        "\n",
        "\n",
        "\n",
        "*   Fit the Encoder on train data\n",
        "*   Apply to train and test\n",
        "*   Check, how many new features we have now"
      ],
      "metadata": {
        "id": "VsQuccHwYKFZ"
      }
    },
    {
      "cell_type": "markdown",
      "source": [
        "Describe the problems you have faced (hint: one of the problems - `ValueError` and the solution will be to set `handle_unknown` in the `OneHotEncoder`). Explain, why did they occur, which impact may they have  on the training process?"
      ],
      "metadata": {
        "id": "yYdel3SMZGIx"
      }
    },
    {
      "cell_type": "code",
      "source": [
        "from sklearn.preprocessing import OneHotEncoder\n",
        "\n",
        "# Create the OneHotEncoder with handle_unknown='ignore'\n",
        "ohe = OneHotEncoder(sparse_output=False, handle_unknown='ignore')\n",
        "\n",
        "# Fit the encoder on the categorical features of the training data\n",
        "categorical_features = df_train.select_dtypes(include=['object']).columns\n",
        "ohe.fit(df_train[categorical_features])\n",
        "\n",
        "# Transform the categorical features in both training and testing data\n",
        "X_train_categorical_encoded = ohe.transform(df_train[categorical_features])\n",
        "X_test_categorical_encoded = ohe.transform(df_test[categorical_features])\n",
        "\n",
        "# Check the number of new features\n",
        "num_new_features = X_train_categorical_encoded.shape[1]\n",
        "print(f\"Number of new features after one-hot encoding: {num_new_features}\")"
      ],
      "metadata": {
        "id": "8xhZ89afXzJ-",
        "colab": {
          "base_uri": "https://localhost:8080/"
        },
        "outputId": "ea078651-b750-473b-d1ae-616a4ada321d"
      },
      "execution_count": null,
      "outputs": [
        {
          "output_type": "stream",
          "name": "stdout",
          "text": [
            "Number of new features after one-hot encoding: 1138\n"
          ]
        }
      ]
    },
    {
      "cell_type": "markdown",
      "source": [
        "**Answer** \\#YOUR ANSWER\n",
        "\n",
        "Explanation on handle_unknown.\n",
        "The Problem: This ValueError normally occurs when the test contains categories, which were not observed in the training data. OneHotEncoder by default raises an error in this case because it is not clear what to do with unseen categories.\n",
        "The Solution: In the encoder case (transformating test data) we set handle_unknown=’ignore’ and this tells the encoder to just ignore unknown categories in the test data all together. Since the test data has recently evolved a new category, a row of all zeros will be created, as it were, and then be valued as ‘?’\n",
        "Impact on Training: If you don’t have handle_unknown=‘ignore‘, your code will crumble to dust as soon as there is a new category in your test input. And so you have no way to make any predictions based on new data. Your model can predict even if it does not identify unknown categories while its predictiveness can be compromised if such categories are vital.\n",
        "Why did they occur?\n",
        "\n",
        "The reason why such errors take place is that OneHotEncoder builds categories present in the training data and creates a mapping from these categories to one-hot vectors. It has no way of handling that when it encounters a new category in the test data that it has not encountered in the training data the code will return ValueError.\n",
        "\n",
        "What effect might they have on the training process?\n",
        "\n",
        "However, if we do not handle the ValueError, the training would be completely stopped. However, if we don’t wish to use this and rather we want the training process to continue, we can do so by setting handle_unknown=’ignore’. Specifically, the overall approach means that, when important for the prediction task, categorizations unseen to the model can actually downgrade the models performance. The standard, yet counterproductive thing is to retrain your model with the full set of categories, unless you can come up with some way of handling unseen data without retraining."
      ],
      "metadata": {
        "id": "oL9vyvSQZ9By"
      }
    },
    {
      "cell_type": "markdown",
      "source": [
        "Drop the columns `'Name','Ticket'` and try again."
      ],
      "metadata": {
        "id": "v8DBnRWTavTw"
      }
    },
    {
      "cell_type": "code",
      "source": [
        "# Drop 'Name' and 'Ticket' columns\n",
        "df_train.drop(['Name', 'Ticket'], axis=1, inplace=True)\n",
        "df_test.drop(['Name', 'Ticket'], axis=1, inplace=True)\n",
        "\n",
        "# Create the OneHotEncoder with handle_unknown='ignore'\n",
        "ohe = OneHotEncoder(sparse_output=False, handle_unknown='ignore')\n",
        "# sparse=False for dense output\n",
        "\n",
        "# Fit the encoder on the categorical features of the training data\n",
        "categorical_features = df_train.select_dtypes(include=['object']).columns\n",
        "ohe.fit(df_train[categorical_features])\n",
        "\n",
        "# Transform the categorical features in both training and testing data\n",
        "X_train_categorical_encoded = ohe.transform(df_train[categorical_features])\n",
        "X_test_categorical_encoded = ohe.transform(df_test[categorical_features])\n",
        "\n",
        "# Check the number of new features\n",
        "num_new_features = X_train_categorical_encoded.shape[1]\n",
        "print(f\"Number of new features after one-hot encoding: {num_new_features}\")"
      ],
      "metadata": {
        "colab": {
          "base_uri": "https://localhost:8080/"
        },
        "id": "sS7MW5C9cVD4",
        "outputId": "a391c33d-02e5-44dc-a622-a8206809aafe"
      },
      "execution_count": null,
      "outputs": [
        {
          "output_type": "stream",
          "name": "stdout",
          "text": [
            "Number of new features after one-hot encoding: 5\n"
          ]
        }
      ]
    },
    {
      "cell_type": "code",
      "source": [],
      "metadata": {
        "id": "dJjJJIYnhK42"
      },
      "execution_count": null,
      "outputs": []
    },
    {
      "cell_type": "markdown",
      "source": [
        "Combine numerical features and encoded categorical and split the data into `X` (objects with features) and `y` (target - `Survived` column) for train and test data."
      ],
      "metadata": {
        "id": "s6O51TIgbWp5"
      }
    },
    {
      "cell_type": "code",
      "source": [
        "y_train = df_train['Survived']\n",
        "y_test = df_test['Survived']\n",
        "\n",
        "X_train = np.concatenate((df_train.drop('Survived', axis=1).values,\n",
        "                         X_train_categorical_encoded), axis=1)\n",
        "X_test = np.concatenate((df_test.drop('Survived', axis=1).values,\n",
        "                         X_test_categorical_encoded), axis=1)"
      ],
      "metadata": {
        "id": "VwRXALJgdCq7"
      },
      "execution_count": null,
      "outputs": []
    },
    {
      "cell_type": "markdown",
      "source": [
        "# Task 3 (2 points)"
      ],
      "metadata": {
        "id": "r7lzHgwzdHD5"
      }
    },
    {
      "cell_type": "markdown",
      "source": [
        "Which metric will be better suitable for our machine learning task? (We want to predict if passenger survived or not). Explain your choice."
      ],
      "metadata": {
        "id": "uQA4eucRdI52"
      }
    },
    {
      "cell_type": "code",
      "source": [
        "#YOUR CODE\n",
        "from sklearn.metrics import accuracy_score, f1_score"
      ],
      "metadata": {
        "id": "lHO9MdHadcgO"
      },
      "execution_count": null,
      "outputs": []
    },
    {
      "cell_type": "markdown",
      "source": [
        "**Answer** \\#YOUR ANSWER\n",
        "\n",
        "Precision or Recall would be less appropriate for this ML task because it is more desirable to have equal rates of true and false positive/negative predictions: hence, we need an F1 score, which we can also better explain. Accuracy measures the general rate of correctness, while F1-score is built to pay attention to the harmonic mean of both precision and recall, which are perfect for the problem of predicting Titanic survival. It remains vague what actually constitutes a better choice between them and frankly, I’d like to offer my take: If you favor more accuracy, you should use the accuracy score, and if you favor balance between misses and false positives of the model, you should use F1 score."
      ],
      "metadata": {
        "id": "DGgl5M4Md3xH"
      }
    },
    {
      "cell_type": "markdown",
      "source": [
        "Fit logistic regression and evaluate the performance on train and test data (using metric you chose)"
      ],
      "metadata": {
        "id": "sAEpBiTFeQXX"
      }
    },
    {
      "cell_type": "code",
      "source": [
        "from sklearn.metrics import accuracy_score, f1_score\n",
        "from sklearn.linear_model import LogisticRegression\n",
        "\n",
        "# One-hot encoding\n",
        "ohe = OneHotEncoder(sparse_output=False, handle_unknown='ignore')\n",
        "categorical_features = df_train.select_dtypes(include=['object']).columns\n",
        "ohe.fit(df_train[categorical_features])\n",
        "X_train_categorical_encoded = ohe.transform(df_train[categorical_features])\n",
        "X_test_categorical_encoded = ohe.transform(df_test[categorical_features])\n",
        "\n",
        "# Preparing data for Logistic Regression\n",
        "y_train = df_train['Survived']\n",
        "y_test = df_test['Survived']\n",
        "\n",
        "# Get numerical features\n",
        "X_train_num = df_train.drop('Survived', axis=1).select_dtypes(exclude=['object']).values\n",
        "X_test_num = df_test.drop('Survived', axis=1).select_dtypes(exclude=['object']).values\n",
        "\n",
        "# Combine numerical features and encoded categorical\n",
        "X_train = np.concatenate((X_train_num, X_train_categorical_encoded), axis=1)\n",
        "X_test = np.concatenate((X_test_num, X_test_categorical_encoded), axis=1)\n",
        "\n",
        "# Fit Logistic Regression\n",
        "model = LogisticRegression(max_iter=1000)\n",
        "model.fit(X_train, y_train)\n",
        "\n",
        "# Make predictions and evaluate\n",
        "y_train_pred = model.predict(X_train)\n",
        "y_test_pred = model.predict(X_test)\n",
        "\n",
        "train_accuracy = accuracy_score(y_train, y_train_pred)\n",
        "test_accuracy = accuracy_score(y_test, y_test_pred)\n",
        "train_f1 = f1_score(y_train, y_train_pred)\n",
        "test_f1 = f1_score(y_test, y_test_pred)\n",
        "\n",
        "print(f\"Train Accuracy: {train_accuracy:.4f}\")\n",
        "print(f\"Test Accuracy: {test_accuracy:.4f}\")\n",
        "print(f\"Train F1-score: {train_f1:.4f}\")\n",
        "print(f\"Test F1-score: {test_f1:.4f}\")"
      ],
      "metadata": {
        "colab": {
          "base_uri": "https://localhost:8080/"
        },
        "id": "v2_0bIZCguIt",
        "outputId": "9a137543-3fec-4c41-b13a-266c01b50db6"
      },
      "execution_count": null,
      "outputs": [
        {
          "output_type": "stream",
          "name": "stdout",
          "text": [
            "Train Accuracy: 0.7929\n",
            "Test Accuracy: 0.7948\n",
            "Train F1-score: 0.7214\n",
            "Test F1-score: 0.7291\n"
          ]
        }
      ]
    },
    {
      "cell_type": "markdown",
      "source": [
        "Now, use `GridSearchCV` to find better hyperparameters (to avoid warnings about total number of iterations, set `max_iter=1000`)"
      ],
      "metadata": {
        "id": "elBr40iEgjo8"
      }
    },
    {
      "cell_type": "code",
      "source": [
        "from sklearn.model_selection import GridSearchCV\n",
        "from sklearn.linear_model import LogisticRegression  # Import LogisticRegression\n",
        "\n",
        "# Define the parameter grid\n",
        "params = {'C': [0.001, 0.01, 0.1, 1, 10, 100]}\n",
        "\n",
        "# Create and fit GridSearchCV\n",
        "clf_lr = GridSearchCV(LogisticRegression(max_iter=1000),\n",
        "                      params,\n",
        "                      cv=3,\n",
        "                      scoring='accuracy')  # or 'f1'\n",
        "clf_lr.fit(X_train, y_train)\n",
        "\n",
        "# Print the best hyperparameters and score\n",
        "print(\"Best hyperparameters:\", clf_lr.best_params_)\n",
        "print(\"Best score:\", clf_lr.best_score_)"
      ],
      "metadata": {
        "colab": {
          "base_uri": "https://localhost:8080/"
        },
        "id": "pUFMoWaEi2v8",
        "outputId": "e118d51a-bd09-4962-aefe-c9233b985fe6"
      },
      "execution_count": null,
      "outputs": [
        {
          "output_type": "stream",
          "name": "stdout",
          "text": [
            "Best hyperparameters: {'C': 1}\n",
            "Best score: 0.7929982658243527\n"
          ]
        }
      ]
    },
    {
      "cell_type": "markdown",
      "source": [
        "# Task 4 (2 points)"
      ],
      "metadata": {
        "id": "veJlz-Hle6Xr"
      }
    },
    {
      "cell_type": "markdown",
      "source": [
        "Fit a decision tree using `GridSearchCV`. Use the parameter grid for hyperparameters `max_depth, min_samples_split, min_samples_leaf`"
      ],
      "metadata": {
        "id": "m2uHXO8He9rk"
      }
    },
    {
      "cell_type": "code",
      "source": [
        "from sklearn.model_selection import GridSearchCV\n",
        "from sklearn.tree import DecisionTreeClassifier\n",
        "\n",
        "params = { 'max_depth' : #YOUR CODE,\n",
        "          'min_samples_split' : #YOUR CODE,\n",
        "           'min_samples_leaf' : #YOUR CODE\n",
        "}\n",
        "\n",
        "clf_tree = GridSearchCV(DecisionTreeClassifier(), params, cv=3, scoring=#YOUR CODE)\n",
        "#YOUR CODE"
      ],
      "metadata": {
        "id": "d7nO8RqyeMhW"
      },
      "execution_count": null,
      "outputs": []
    },
    {
      "cell_type": "code",
      "source": [
        "from sklearn.model_selection import GridSearchCV\n",
        "from sklearn.tree import DecisionTreeClassifier\n",
        "\n",
        "# Define the parameter grid\n",
        "params = {\n",
        "    'max_depth': [2, 3, 4, 5, 6, 7, 8, 9, 10],\n",
        "    'min_samples_split': [2, 5, 10, 20, 50],\n",
        "    'min_samples_leaf': [1, 2, 5, 10, 20]\n",
        "}\n",
        "\n",
        "# Create and fit GridSearchCV\n",
        "clf_tree = GridSearchCV(DecisionTreeClassifier(),\n",
        "                        params,\n",
        "                        cv=3,\n",
        "                        scoring='accuracy')  # or 'f1'\n",
        "clf_tree.fit(X_train, y_train)\n",
        "\n",
        "# Print the best hyperparameters and score\n",
        "print(\"Best hyperparameters:\", clf_tree.best_params_)\n",
        "print(\"Best score:\", clf_tree.best_score_)"
      ],
      "metadata": {
        "colab": {
          "base_uri": "https://localhost:8080/"
        },
        "id": "hrdl8Kp4jTd6",
        "outputId": "c1542ec0-12b5-401b-bd2f-1e58e1306310"
      },
      "execution_count": null,
      "outputs": [
        {
          "output_type": "stream",
          "name": "stdout",
          "text": [
            "Best hyperparameters: {'max_depth': 3, 'min_samples_leaf': 20, 'min_samples_split': 2}\n",
            "Best score: 0.8009878607704696\n"
          ]
        }
      ]
    },
    {
      "cell_type": "markdown",
      "source": [
        "Now, use soft voting strategy to combine logistic regression and decision tree (use the ones with the best hyperparameters). Measure the quality on train and test data. Did the quality improve?"
      ],
      "metadata": {
        "id": "VmDJDWmGhSVZ"
      }
    },
    {
      "cell_type": "code",
      "source": [
        "#YOUR CODE\n",
        "\n",
        "from sklearn.ensemble import VotingClassifier\n",
        "from sklearn.metrics import accuracy_score, f1_score\n",
        "\n",
        "# Create the individual models with best hyperparameters\n",
        "best_lr_model = LogisticRegression(**clf_lr.best_params_, max_iter=1000)\n",
        "best_tree_model = DecisionTreeClassifier(**clf_tree.best_params_)\n",
        "\n",
        "# Create the VotingClassifier with soft voting\n",
        "voting_clf = VotingClassifier(estimators=[('lr', best_lr_model), ('tree', best_tree_model)],\n",
        "                             voting='soft')\n",
        "\n",
        "# Fit the VotingClassifier\n",
        "voting_clf.fit(X_train, y_train)\n",
        "\n",
        "# Make predictions and evaluate\n",
        "y_train_pred = voting_clf.predict(X_train)\n",
        "y_test_pred = voting_clf.predict(X_test)\n",
        "\n",
        "train_accuracy = accuracy_score(y_train, y_train_pred)\n",
        "test_accuracy = accuracy_score(y_test, y_test_pred)\n",
        "train_f1 = f1_score(y_train, y_train_pred)\n",
        "test_f1 = f1_score(y_test, y_test_pred)\n",
        "\n",
        "print(\"Voting Classifier Performance:\")\n",
        "print(f\"Train Accuracy: {train_accuracy:.4f}\")\n",
        "print(f\"Test Accuracy: {test_accuracy:.4f}\")\n",
        "print(f\"Train F1-score: {train_f1:.4f}\")\n",
        "print(f\"Test F1-score: {test_f1:.4f}\")"
      ],
      "metadata": {
        "id": "y-8UL6KBhcnA",
        "colab": {
          "base_uri": "https://localhost:8080/"
        },
        "outputId": "fb2666bb-c4b2-4209-881a-03702fed827f"
      },
      "execution_count": null,
      "outputs": [
        {
          "output_type": "stream",
          "name": "stdout",
          "text": [
            "Voting Classifier Performance:\n",
            "Train Accuracy: 0.8138\n",
            "Test Accuracy: 0.8060\n",
            "Train F1-score: 0.7352\n",
            "Test F1-score: 0.7292\n"
          ]
        }
      ]
    },
    {
      "cell_type": "markdown",
      "source": [
        "**Answer** \\#YOUR ANSWER\n",
        "\n",
        "the quality has slightly improved with the Voting Classifier.\n",
        "\n",
        "Still, there is a slight improvement of the quality when employing the Voting Classifier.\n",
        "\n",
        "Accuracy: The Voting Classifier had improved accuracy compared to the individual model on both the training set with a 0.8138 versus 0.7929 and test set with 0.8060 versus 0.7948.\n",
        "F1-score: CvFairness also demonstrated a small increase for the F1-score in the training set compared to the baseline (0.7352 vs. 0.7214). When it comes to the test set, both models report almost equal F1-score – 0.7292 for the first one and 0.7291 for the second one.\n",
        "\n"
      ],
      "metadata": {
        "id": "1Ssi1NexpY9H"
      }
    },
    {
      "cell_type": "markdown",
      "source": [
        "# Task 5 (2 points)"
      ],
      "metadata": {
        "id": "Ffnb--9Aik6-"
      }
    },
    {
      "cell_type": "markdown",
      "source": [
        "Now, let's work with random forest and conduct similar experiment to the one on the seminar: let's fit `RandomForestClassifier` for different number of trees and check, how  the quality changes. Draw conclusions."
      ],
      "metadata": {
        "id": "4xA7zd5SisRq"
      }
    },
    {
      "cell_type": "code",
      "source": [
        "from sklearn.ensemble import RandomForestClassifier\n",
        "\n",
        "\n",
        "# Define the range of number of trees\n",
        "n_estimators_range = [10, 25, 50, 75, 100, 150, 200, 300, 500]\n",
        "\n",
        "# Lists to store the results\n",
        "train_accuracy = []\n",
        "test_accuracy = []\n",
        "train_f1 = []\n",
        "test_f1 = []\n",
        "\n",
        "# Loop through the different number of trees\n",
        "for n_estimators in n_estimators_range:\n",
        "    # Create and fit the RandomForestClassifier\n",
        "    rf_model = RandomForestClassifier(n_estimators=n_estimators, random_state=0)\n",
        "    rf_model.fit(X_train, y_train)\n",
        "\n",
        "    # Make predictions and evaluate\n",
        "    y_train_pred = rf_model.predict(X_train)\n",
        "    y_test_pred = rf_model.predict(X_test)\n",
        "\n",
        "    # Store the results\n",
        "    train_accuracy.append(accuracy_score(y_train, y_train_pred))\n",
        "    test_accuracy.append(accuracy_score(y_test, y_test_pred))\n",
        "    train_f1.append(f1_score(y_train, y_train_pred))\n",
        "    test_f1.append(f1_score(y_test, y_test_pred))\n",
        "\n",
        "# Plot the results\n",
        "plt.figure(figsize=(10, 6))\n",
        "plt.plot(n_estimators_range, train_accuracy, label='Train Accuracy')\n",
        "plt.plot(n_estimators_range, test_accuracy, label='Test Accuracy')\n",
        "plt.plot(n_estimators_range, train_f1, label='Train F1-score')\n",
        "plt.plot(n_estimators_range, test_f1, label='Test F1-score')\n",
        "plt.xlabel('Number of Trees (n_estimators)')"
      ],
      "metadata": {
        "id": "bcB3Pp4HjE4D",
        "colab": {
          "base_uri": "https://localhost:8080/",
          "height": 560
        },
        "outputId": "7dc60054-9abd-45c2-b97a-6410e44a5af2"
      },
      "execution_count": null,
      "outputs": [
        {
          "output_type": "execute_result",
          "data": {
            "text/plain": [
              "Text(0.5, 0, 'Number of Trees (n_estimators)')"
            ]
          },
          "metadata": {},
          "execution_count": 36
        },
        {
          "output_type": "display_data",
          "data": {
            "text/plain": [
              "<Figure size 1000x600 with 1 Axes>"
            ],
            "image/png": "[encoded data removed]"
          },
          "metadata": {}
        }
      ]
    },
    {
      "cell_type": "markdown",
      "source": [
        "With how many trees the best train quality is achived? What the test quality will be?"
      ],
      "metadata": {
        "id": "S5jUcPuwm4hu"
      }
    },
    {
      "cell_type": "code",
      "source": [
        "# Find the index of the best train accuracy\n",
        "best_train_index = train_accuracy.index(max(train_accuracy))\n",
        "\n",
        "# Get the corresponding number of trees\n",
        "best_n_estimators = n_estimators_range[best_train_index]\n",
        "\n",
        "# Get the corresponding test accuracy and F1-score\n",
        "best_test_accuracy = test_accuracy[best_train_index]\n",
        "best_test_f1 = test_f1[best_train_index]\n",
        "\n",
        "print(f\"Best train quality achieved with {best_n_estimators} trees.\")\n",
        "print(f\"Corresponding test accuracy: {best_test_accuracy:.4f}\")\n",
        "print(f\"Corresponding test F1-score: {best_test_f1:.4f}\")"
      ],
      "metadata": {
        "id": "464HNlQzmvWh",
        "colab": {
          "base_uri": "https://localhost:8080/"
        },
        "outputId": "ece77fce-7b46-4319-b71f-c7d40e109c7b"
      },
      "execution_count": null,
      "outputs": [
        {
          "output_type": "stream",
          "name": "stdout",
          "text": [
            "Best train quality achieved with 75 trees.\n",
            "Corresponding test accuracy: 0.8358\n",
            "Corresponding test F1-score: 0.7755\n"
          ]
        }
      ]
    },
    {
      "cell_type": "markdown",
      "source": [
        "**Answer** \\#YOUR ANSWER\n",
        "\n",
        "The best training performance was achieved when using 75 trees. However, when this model (trained with 75 trees) was evaluated on the test data (unseen data), it achieved an accuracy of 0.8358 and an F1-score of 0.7755.\n"
      ],
      "metadata": {
        "id": "9Im5UiGCmRiw"
      }
    },
    {
      "cell_type": "markdown",
      "source": [
        "And the same experiment using `AdaBoost` (set `algorithm='SAMME'` as hyperparameter to avoid warnings), draw conclusions"
      ],
      "metadata": {
        "id": "mY_9ACkjlFHP"
      }
    },
    {
      "cell_type": "code",
      "source": [
        "from sklearn.ensemble import AdaBoostClassifier\n",
        "\n",
        "\n",
        "# Define the range of number of estimators\n",
        "n_estimators_range = [10, 25, 50, 75, 100, 150, 200, 300, 500]\n",
        "\n",
        "# Lists to store the results\n",
        "train_accuracy = []\n",
        "test_accuracy = []\n",
        "train_f1 = []\n",
        "test_f1 = []\n",
        "\n",
        "# Loop through the different number of estimators\n",
        "for n_estimators in n_estimators_range:\n",
        "    # Create and fit the AdaBoostClassifier\n",
        "    ada_model = AdaBoostClassifier(n_estimators=n_estimators, algorithm='SAMME', random_state=0)\n",
        "    ada_model.fit(X_train, y_train)\n",
        "\n",
        "    # Make predictions and evaluate\n",
        "    y_train_pred = ada_model.predict(X_train)\n",
        "    y_test_pred = ada_model.predict(X_test)\n",
        "\n",
        "    # Store the results\n",
        "    train_accuracy.append(accuracy_score(y_train, y_train_pred))\n",
        "    test_accuracy.append(accuracy_score(y_test, y_test_pred))\n",
        "    train_f1.append(f1_score(y_train, y_train_pred))\n",
        "    test_f1.append(f1_score(y_test, y_test_pred))\n",
        "\n",
        "# Plot the results\n",
        "plt.figure(figsize=(10, 6))\n",
        "plt.plot(n_estimators_range, train_accuracy, label='Train Accuracy')\n",
        "plt.plot(n_estimators_range, test_accuracy, label='Test Accuracy')\n",
        "plt.plot(n_estimators_range, train_f1, label='Train F1-score')\n",
        "plt.plot(n_estimators_range, test_f1, label='Test F1-score')\n",
        "plt.xlabel('Number of Estimators')\n",
        "plt.ylabel('Score')\n",
        "plt.title('AdaBoost Performance vs. Number of Estimators')\n",
        "plt.legend()\n",
        "plt.grid(True)\n",
        "plt.show()"
      ],
      "metadata": {
        "id": "fLRe0t1XlLtG",
        "colab": {
          "base_uri": "https://localhost:8080/",
          "height": 913
        },
        "outputId": "43edd422-7820-4bde-cec6-c97da6a09d07"
      },
      "execution_count": null,
      "outputs": [
        {
          "output_type": "stream",
          "name": "stderr",
          "text": [
            "/usr/local/lib/python3.10/dist-packages/sklearn/ensemble/_weight_boosting.py:514: FutureWarning: The parameter 'algorithm' is deprecated in 1.6 and has no effect. It will be removed in version 1.8.\n",
            "  warnings.warn(\n",
            "/usr/local/lib/python3.10/dist-packages/sklearn/ensemble/_weight_boosting.py:514: FutureWarning: The parameter 'algorithm' is deprecated in 1.6 and has no effect. It will be removed in version 1.8.\n",
            "  warnings.warn(\n",
            "/usr/local/lib/python3.10/dist-packages/sklearn/ensemble/_weight_boosting.py:514: FutureWarning: The parameter 'algorithm' is deprecated in 1.6 and has no effect. It will be removed in version 1.8.\n",
            "  warnings.warn(\n",
            "/usr/local/lib/python3.10/dist-packages/sklearn/ensemble/_weight_boosting.py:514: FutureWarning: The parameter 'algorithm' is deprecated in 1.6 and has no effect. It will be removed in version 1.8.\n",
            "  warnings.warn(\n",
            "/usr/local/lib/python3.10/dist-packages/sklearn/ensemble/_weight_boosting.py:514: FutureWarning: The parameter 'algorithm' is deprecated in 1.6 and has no effect. It will be removed in version 1.8.\n",
            "  warnings.warn(\n",
            "/usr/local/lib/python3.10/dist-packages/sklearn/ensemble/_weight_boosting.py:514: FutureWarning: The parameter 'algorithm' is deprecated in 1.6 and has no effect. It will be removed in version 1.8.\n",
            "  warnings.warn(\n",
            "/usr/local/lib/python3.10/dist-packages/sklearn/ensemble/_weight_boosting.py:514: FutureWarning: The parameter 'algorithm' is deprecated in 1.6 and has no effect. It will be removed in version 1.8.\n",
            "  warnings.warn(\n",
            "/usr/local/lib/python3.10/dist-packages/sklearn/ensemble/_weight_boosting.py:514: FutureWarning: The parameter 'algorithm' is deprecated in 1.6 and has no effect. It will be removed in version 1.8.\n",
            "  warnings.warn(\n",
            "/usr/local/lib/python3.10/dist-packages/sklearn/ensemble/_weight_boosting.py:514: FutureWarning: The parameter 'algorithm' is deprecated in 1.6 and has no effect. It will be removed in version 1.8.\n",
            "  warnings.warn(\n"
          ]
        },
        {
          "output_type": "display_data",
          "data": {
            "text/plain": [
              "<Figure size 1000x600 with 1 Axes>"
            ],
            "image/png": "[encoded data removed]"
          },
          "metadata": {}
        }
      ]
    },
    {
      "cell_type": "markdown",
      "source": [
        "With how many models the best train quality is achived? What the test quality will be?"
      ],
      "metadata": {
        "id": "3e3rmrYunPtP"
      }
    },
    {
      "cell_type": "code",
      "source": [
        "# Find the index of the best train accuracy\n",
        "best_train_index = train_accuracy.index(max(train_accuracy))\n",
        "\n",
        "# Get the corresponding number of estimators\n",
        "best_n_estimators = n_estimators_range[best_train_index]\n",
        "\n",
        "# Get the corresponding test accuracy and F1-score\n",
        "best_test_accuracy = test_accuracy[best_train_index]\n",
        "best_test_f1 = test_f1[best_train_index]\n",
        "\n",
        "print(f\"Best train quality achieved with {best_n_estimators} estimators.\")\n",
        "print(f\"Corresponding test accuracy: {best_test_accuracy:.4f}\")\n",
        "print(f\"Corresponding test F1-score: {best_test_f1:.4f}\")"
      ],
      "metadata": {
        "id": "hs30vnG3nOH2",
        "colab": {
          "base_uri": "https://localhost:8080/"
        },
        "outputId": "31b4a573-c612-437e-edfe-6397ac8004d9"
      },
      "execution_count": null,
      "outputs": [
        {
          "output_type": "stream",
          "name": "stdout",
          "text": [
            "Best train quality achieved with 300 estimators.\n",
            "Corresponding test accuracy: 0.8022\n",
            "Corresponding test F1-score: 0.7310\n"
          ]
        }
      ]
    },
    {
      "cell_type": "markdown",
      "source": [
        "**Answer** \\#YOUR ANSWER\n",
        "\n",
        "The model was trained with different numbers of estimators. The best training performance was achieved when using 300 estimators. However, when this model (trained with 300 estimators) was evaluated on the test data, it achieved an accuracy of 0.8022 and an F1-score of 0.7310"
      ],
      "metadata": {
        "id": "doj-Bx1XmpX0"
      }
    },
    {
      "cell_type": "markdown",
      "source": [
        "# Task 6 (1 point)"
      ],
      "metadata": {
        "id": "Ohj3JMTkndCi"
      }
    },
    {
      "cell_type": "markdown",
      "source": [
        "What is the best quality achived? Which model did achive it? Whith which hyperparameters? Does it seem logical?"
      ],
      "metadata": {
        "id": "D0UxqkGmnjdD"
      }
    },
    {
      "cell_type": "markdown",
      "source": [
        "**Answer** \\#YOUR ANSWER\n",
        "\n",
        "The Random Forrest method yielded the highest test accuracy i.e, the best quality of 75. The proposed model reached a test accuracy of 0.8358 and a test F1-score of 0.7755.\n",
        "\n",
        "Model and Hyperparameters:\n",
        "\n",
        "Model: Random Forest Classifier (RandomForestClassifier) Hyperparameters: Random Forest Hyperparameters: n_estimators = 75 choose the number of trees Other hyperparameters were most probably set to default until you adjusted them in the code\n",
        "\n",
        "Random Forest is an extension of a single Decision Tree that makes a prediction by integrating several Decision Trees. It is mainly so because ensembles are less likely to overfit the model and make the generalization easier in most cases than models alone.\n",
        "\n",
        "\n"
      ],
      "metadata": {
        "id": "Eo7-ltmQnwsG"
      }
    },
    {
      "cell_type": "code",
      "source": [],
      "metadata": {
        "id": "mXEFTMUEnLTt"
      },
      "execution_count": null,
      "outputs": []
    }
  ]
}